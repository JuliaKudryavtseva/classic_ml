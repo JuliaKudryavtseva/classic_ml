{
 "cells": [
  {
   "cell_type": "markdown",
   "metadata": {},
   "source": [
    "# Resampling \n",
    "\n",
    "\n",
    "Once we have a data sample, it can be used to estimate the population parameter. The\n",
    "problem is that we only have a single estimate of the population parameter, with little idea\n",
    "of the variability or uncertainty in the estimate. One way to address this is by estimating the\n",
    "population parameter multiple times from our data sample. This is called resampling.\n",
    "\n",
    "\n",
    "A key difference is that resampling must be repeated multiple times. The problem with this is\n",
    "that there will be some relationship between the samples as observations that will be shared\n",
    "across multiple subsamples. This means that the subsamples and the estimated population\n",
    "parameters are not strictly identical and independently distributed. This has implications for\n",
    "statistical tests performed on the sample of estimated population parameters downstream\n",
    "\n",
    "* **Bootstrap**. Samples are drawn from the dataset with replacement (allowing the same\n",
    "sample to appear more than once in the sample), where those instances not drawn into\n",
    "the data sample may be used for the test set\n",
    "\n",
    "* **k-fold Cross-Validation**\n",
    "\n",
    "## Bootstrap Method\n",
    "\n",
    "The bootstrap method can be used to estimate a quantity of a population. This is done\n",
    "by repeatedly taking small samples, calculating the statistic, and taking the average of the\n",
    "calculated statistics.\n",
    "\n",
    "```\n",
    "# ----- start bootstrap ----- \n",
    "\n",
    "1. Choose a number of bootstrap samples to perform\n",
    "2. Choose a sample size\n",
    "3. For each bootstrap sample\n",
    "    3.1 Draw a sample with replacement with the chosen size\n",
    "    \n",
    "# ----- end bootstrap  ----- \n",
    "\n",
    "    3.2 Calculate the statistic on the sample\n",
    "4. Calculate the mean of the calculated sample statistics.\n",
    "\n",
    "\n",
    "```\n",
    "\n",
    "The samples not selected are usually referred to as the “out-of-bag” samples. For\n",
    "a given iteration of bootstrap resampling, a model is built on the selected samples\n",
    "and is used to predict the out-of-bag samples.\n",
    "\n"
   ]
  },
  {
   "cell_type": "code",
   "execution_count": 52,
   "metadata": {
    "scrolled": true
   },
   "outputs": [
    {
     "name": "stdout",
     "output_type": "stream",
     "text": [
      "Theoretical mean: 5.5, Empirical mean: 5.053619999999999\n"
     ]
    }
   ],
   "source": [
    "import numpy as np\n",
    "np.random.seed(1)\n",
    "\n",
    "data = np.arange(1, 101) / 10\n",
    "repeat = 100\n",
    "subsample_size = 100\n",
    "\n",
    "means = []\n",
    "for _ in range(repeat):\n",
    "    \n",
    "    ind_subsample = np.random.randint(0, 100, subsample_size)\n",
    "    ind_oob = set(np.arange(100)) - set(ind_subsample)\n",
    "\n",
    "    sub_sample = data[ind_subsample]\n",
    "    oob = data[list(ind_oob)] # oob for cheape predictions\n",
    "    \n",
    "    means.append(np.mean(sub_sample))\n",
    "    \n",
    "print(f'Theoretical mean: {(data[-1] + 1) /  2}, Empirical mean: {np.mean(means)}')"
   ]
  },
  {
   "cell_type": "code",
   "execution_count": 53,
   "metadata": {},
   "outputs": [
    {
     "name": "stdout",
     "output_type": "stream",
     "text": [
      "Data:  [0.1, 0.2, 0.3, 0.4, 0.5, 0.6]\n",
      "Bootstrap Sample: [0.6, 0.4, 0.5, 0.1]\n",
      "OOB Sample: [0.2, 0.3]\n"
     ]
    }
   ],
   "source": [
    "from sklearn.utils import resample\n",
    "\n",
    "# data sample\n",
    "data = [0.1, 0.2, 0.3, 0.4, 0.5, 0.6]\n",
    "print('Data: ', data)\n",
    "\n",
    "# prepare bootstrap sample\n",
    "boot = resample(data, replace=True, n_samples=4, random_state=1)\n",
    "print('Bootstrap Sample: %s' % boot)\n",
    "\n",
    "\n",
    "# out of bag observations\n",
    "oob = [x for x in data if x not in boot]\n",
    "print('OOB Sample: %s' % oob)"
   ]
  },
  {
   "cell_type": "markdown",
   "metadata": {},
   "source": [
    "## Reources used:\n",
    "\n",
    "Statistical Methods for Machine Learning. Discover How to Transform Data into Knowledge with Python (Brownlee) 1,4 ed (2019)"
   ]
  }
 ],
 "metadata": {
  "kernelspec": {
   "display_name": "Python 3",
   "language": "python",
   "name": "python3"
  },
  "language_info": {
   "codemirror_mode": {
    "name": "ipython",
    "version": 3
   },
   "file_extension": ".py",
   "mimetype": "text/x-python",
   "name": "python",
   "nbconvert_exporter": "python",
   "pygments_lexer": "ipython3",
   "version": "3.7.6"
  }
 },
 "nbformat": 4,
 "nbformat_minor": 4
}
