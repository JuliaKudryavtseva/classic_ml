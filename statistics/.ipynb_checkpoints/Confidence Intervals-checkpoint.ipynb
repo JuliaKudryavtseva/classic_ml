{
 "cells": [
  {
   "cell_type": "markdown",
   "metadata": {},
   "source": [
    "### There are three main types of intervals that are commonly calculated. They are:\n",
    "\n",
    "* **Tolerance Interval:** The bounds or coverage of a proportion of a distribution with a\n",
    "specific level of confidence. A tolerance interval may be used to set expectations on observations in a population or help\n",
    "to identify outliers.\n",
    "* **Confidence Interval:** The bounds on the estimate of a population parameter. A confidence interval can be used to interpret the range for a mean of a data sample that can become more precise as the sample size is increased. \n",
    "\n",
    "* **Prediction Interval:** The bounds on a single observation. A prediction interval\n",
    "can be used to provide a range for a prediction or forecast from a model."
   ]
  },
  {
   "cell_type": "markdown",
   "metadata": {},
   "source": [
    "# Tolerance Intervals\n",
    "\n",
    "It can be useful to have an upper and lower limit on data. These bounds can be used to help\n",
    "identify anomalies and set expectations for what to expect. A bound on observations from\n",
    "a population is called a tolerance interval. A tolerance interval covers a proportion of the population distribution.\n",
    "\n",
    "* **Coverage:** The proportion of the population covered by the interval.\n",
    "* **Confidence:** The probabilistic confidence that the interval covers the proportion of the\n",
    "population.\n",
    "\n",
    "\n",
    "The interval is limited by the sampling error and by the variance of the population distribution.\n",
    "Given the law of large numbers, as the sample size is increased, the probabilities will better\n",
    "match the underlying population distribution.\n",
    "\n",
    "```\n",
    "The tolerance interval is constructed from data using two coefficients, the coverage\n",
    "and the tolerance coefficient. The coverage is the proportion of the population (p)\n",
    "that the interval is supposed to contain. The tolerance coefficient is the degree\n",
    "of confidence with which the interval reaches the specified coverage. A tolerance\n",
    "interval with coverage of 95% and a tolerance coefficient of 90% will contain 95% of\n",
    "the population distribution with a confidence of 90%.\n",
    "                                          — Page 175, Statistics for Environmental Engineers, Second Edition, 2002\n",
    "```"
   ]
  },
  {
   "cell_type": "markdown",
   "metadata": {},
   "source": [
    "###  Tolerance Interval for Gaussian Distribution\n",
    "\n",
    "During the example, we will assume that we are unaware of the true population mean and\n",
    "standard deviation, and that these values must be estimated. Because the population parameters\n",
    "have to be estimated, there is additional uncertainty. For example, for a 95% coverage, we\n",
    "could use 1.96 (or 2) standard deviations from the estimated mean as the tolerance interval.\n",
    "We must estimate the mean and standard deviation from the sample and take this uncertainty\n",
    "into account, therefore the calculation of the interval is slightly more complex.\n",
    "\n",
    "Next, we must specify the number of degrees of freedom. This will be used in the calculation\n",
    "of critical values and in the calculation of the interval. Specifically, it is used in the calculation\n",
    "of the standard deviation. Remember that the degrees of freedom are the number of values in\n",
    "the calculation that can vary. Here, we have 100 observations, therefore 100 degrees of freedom.\n",
    "We do not know the standard deviation, therefore it must be estimated using the mean. This\n",
    "means our degrees of freedom will be (N - 1) or 99.\n",
    "\n",
    "**Degrees of freedom** (statistics), the number of values in the final calculation of a statistic that are free to vary.\n",
    "![ddf](ddof.png)\n",
    "\n",
    "Next, we must specify the proportional coverage of the data. In this example, we are\n",
    "interested in the middle 95% of the data. The proportion is 95. We must shift this proportion\n",
    "so that it covers the middle 95%, that is from 2.5th percentile to the 97.5th percentile. We\n",
    "know that the critical value for 95% is 1.96 given that we use it so often;\n",
    "\n",
    "Next, we need to calculate the confidence of the coverage. We can do this by retrieving the\n",
    "critical value from the Chi-Squared distribution for the given number of degrees of freedom and\n",
    "desired probability. We can use the chi2.ppf() SciPy function."
   ]
  },
  {
   "cell_type": "code",
   "execution_count": 1,
   "metadata": {},
   "outputs": [
    {
     "name": "stdout",
     "output_type": "stream",
     "text": [
      "Gaussian critical value: -1.960 (coverage=95%)\n",
      "Chi-Squared critical value: 69.230 (prob=99%, dof=99)\n",
      "Tolerance Interval: 2.355\n",
      "47.95 to 52.66 covers 95% of data with a confidence of 99%\n"
     ]
    },
    {
     "data": {
      "image/png": "[encoded data removed]",
      "text/plain": [
       "<Figure size 432x288 with 1 Axes>"
      ]
     },
     "metadata": {
      "needs_background": "light"
     },
     "output_type": "display_data"
    }
   ],
   "source": [
    "from scipy.stats import chi2\n",
    "from scipy.stats import norm\n",
    "import numpy as np\n",
    "import matplotlib.pyplot as plt \n",
    "\n",
    "# seed the random number generator\n",
    "np.random.seed(1)\n",
    "\n",
    "# generate dataset from nirmal dist. mean=50 and std=5 and size = 100\n",
    "data = np.random.normal(50, 5, 100)\n",
    "\n",
    "# specify degrees of freedom\n",
    "n = len(data)\n",
    "dof = n - 1\n",
    "\n",
    "\n",
    "# specify data coverage\n",
    "prop = 0.95\n",
    "prop_inv = (1.0 - prop) / 2.0\n",
    "gauss_critical = norm.ppf(prop_inv)\n",
    "print('Gaussian critical value: %.3f (coverage=%d%%)' % (gauss_critical, prop * 100))\n",
    "\n",
    "\n",
    "# specify confidence\n",
    "prob = 0.99\n",
    "prop_inv = 1.0 - prob\n",
    "chi_critical = chi2.ppf(prop_inv, dof)\n",
    "print('Chi-Squared critical value: %.3f (prob=%d%%, dof=%d)' % (chi_critical, prob*100,\n",
    "dof))\n",
    "\n",
    "\n",
    "# tolerance\n",
    "interval = np.sqrt((dof * (1 + (1/n)) * gauss_critical**2) / chi_critical)\n",
    "print('Tolerance Interval: %.3f' % interval)\n",
    "\n",
    "\n",
    "# summarize\n",
    "data_mean = np.mean(data)\n",
    "lower, upper = data_mean-interval, data_mean+interval\n",
    "print('%.2f to %.2f covers %d%% of data with a confidence of %d%%' % (lower, upper,\n",
    "prop*100, prob*100))\n",
    "\n",
    "plt.hist(data, density=True)\n",
    "plt.plot(np.linspace(35, 65, 1000), norm.pdf(np.linspace(35, 65, 1000), 50, 5))\n",
    "plt.axvline(lower, color='r')\n",
    "plt.axvline(upper, color='r')\n",
    "\n",
    "plt.show()"
   ]
  },
  {
   "cell_type": "markdown",
   "metadata": {},
   "source": [
    "**The tolerance interval will decrease (become\n",
    "more precise) as the size of the sample is increased.**\n",
    "\n",
    "Running the example creates a plot showing the tolerance interval around the true population\n",
    "mean. We can see that the interval becomes smaller (more precise) as the sample size is increased\n",
    "from 5 to 15 examples."
   ]
  },
  {
   "cell_type": "code",
   "execution_count": 2,
   "metadata": {},
   "outputs": [
    {
     "data": {
      "image/png": "[encoded data removed]",
      "text/plain": [
       "<Figure size 432x288 with 1 Axes>"
      ]
     },
     "metadata": {
      "needs_background": "light"
     },
     "output_type": "display_data"
    }
   ],
   "source": [
    "# plot tolerance interval vs sample size\n",
    "from numpy.random import seed\n",
    "from numpy.random import randn\n",
    "from numpy import sqrt\n",
    "from scipy.stats import chi2\n",
    "from scipy.stats import norm\n",
    "from matplotlib import pyplot\n",
    "# seed the random number generator\n",
    "seed(1)\n",
    "# sample sizes\n",
    "sizes = range(5,15)\n",
    "for n in sizes:\n",
    "    # generate dataset\n",
    "    data = 5 * randn(n) + 50\n",
    "    # calculate degrees of freedom\n",
    "    dof = n - 1\n",
    "    # specify data coverage\n",
    "    prop = 0.95\n",
    "    prop_inv = (1.0 - prop) / 2.0\n",
    "    gauss_critical = norm.ppf(prop_inv)\n",
    "    # specify confidence\n",
    "    prob = 0.99\n",
    "    prop_inv = 1.0 - prob\n",
    "    chi_critical = chi2.ppf(prop_inv, dof)\n",
    "    # tolerance\n",
    "    tol = sqrt((dof * (1 + (1/n)) * gauss_critical**2) / chi_critical)\n",
    "    # plot\n",
    "    pyplot.errorbar(n, 50, yerr=tol, color='blue', fmt='o')\n",
    "    # plot results\n",
    "pyplot.show()"
   ]
  },
  {
   "cell_type": "markdown",
   "metadata": {},
   "source": [
    "### Confidence Intervals\n",
    "```\n",
    "The 95% confidence interval (CI) is a range of values calculated from our data, that\n",
    "most likely, includes the true value of what we’re estimating about the population.\n",
    "                    — Page 4, Introduction to the New Statistics: Estimation, Open Science, and Beyond, 2016.\n",
    "\n",
    "```\n",
    "\n",
    "* **Smaller Confidence Interval:** A more precise estimate.\n",
    "* **Larger Confidence Interval:** A less precise estimate."
   ]
  },
  {
   "cell_type": "markdown",
   "metadata": {},
   "source": [
    "**Interval for Classification Accuracy**\n",
    "\n",
    "We can use the assumption of a Gaussian distribution of the proportion (i.e. the classification\n",
    "accuracy or error) to easily calculate the confidence interval. In the case of classification error,\n",
    "the radius of the interval can be calculated as:\n",
    "\n",
    "Consider a model with an error of 20%, or 0.2 (error = 0.2), on a validation dataset with 50\n",
    "examples (n = 50). We can calculate the 95% confidence interval (z = 1.96) as follows:\n"
   ]
  },
  {
   "cell_type": "code",
   "execution_count": 4,
   "metadata": {},
   "outputs": [
    {
     "name": "stdout",
     "output_type": "stream",
     "text": [
      "+/- 0.111\n",
      "The classification error of the model is 20% +/- 11%\n"
     ]
    }
   ],
   "source": [
    "# binomial confidence interval\n",
    "from math import sqrt\n",
    "# calculate the interval\n",
    "interval = 1.96 * sqrt( (0.2 * (1 - 0.2)) / 50)\n",
    "print('+/- %.3f' % interval)\n",
    "print('The classification error of the model is 20% +/- 11%')"
   ]
  },
  {
   "cell_type": "markdown",
   "metadata": {},
   "source": [
    "The\n",
    "example below demonstrates this function in a hypothetical case where a model made 88 correct\n",
    "predictions out of a dataset with 100 instances and we are interested in the 95% confidence\n",
    "interval (provided to the function as a significance of 0.05).\n"
   ]
  },
  {
   "cell_type": "code",
   "execution_count": 16,
   "metadata": {},
   "outputs": [
    {
     "name": "stdout",
     "output_type": "stream",
     "text": [
      "lower=0.816, upper=0.944\n"
     ]
    }
   ],
   "source": [
    "# calculate the confidence interval\n",
    "from statsmodels.stats.proportion import proportion_confint\n",
    "# calculate the interval\n",
    "lower, upper = proportion_confint(88, 100, 0.05)\n",
    "print('lower=%.3f, upper=%.3f' % (lower, upper))"
   ]
  },
  {
   "cell_type": "code",
   "execution_count": null,
   "metadata": {},
   "outputs": [],
   "source": []
  }
 ],
 "metadata": {
  "kernelspec": {
   "display_name": "Python 3",
   "language": "python",
   "name": "python3"
  },
  "language_info": {
   "codemirror_mode": {
    "name": "ipython",
    "version": 3
   },
   "file_extension": ".py",
   "mimetype": "text/x-python",
   "name": "python",
   "nbconvert_exporter": "python",
   "pygments_lexer": "ipython3",
   "version": "3.7.6"
  }
 },
 "nbformat": 4,
 "nbformat_minor": 4
}
