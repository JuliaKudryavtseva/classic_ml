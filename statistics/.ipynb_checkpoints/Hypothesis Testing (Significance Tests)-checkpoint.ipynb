{
 "cells": [
  {
   "cell_type": "markdown",
   "metadata": {},
   "source": [
    "# Parametric Statistical Significance Tests\n",
    "\n",
    "Parametric statistical tests assume that a data sample was drawn from a specific population\n",
    "distribution. They often refer to statistical tests that assume the Gaussian distribution. Because\n",
    "it is so common for data to fit this distribution.\n",
    "\n",
    "### A typical question we may have about two or more samples of data is whether they have the same distribution -  that is a data distribution with the same mean and standard deviation?"
   ]
  },
  {
   "cell_type": "code",
   "execution_count": 7,
   "metadata": {},
   "outputs": [
    {
     "name": "stdout",
     "output_type": "stream",
     "text": [
      "data1: mean=50.303 stdv=4.426\n",
      "data2: mean=51.764 stdv=4.660\n"
     ]
    }
   ],
   "source": [
    "import numpy as np\n",
    "np.random.seed(1)\n",
    "\n",
    "# generate two sets of univariate observations\n",
    "MEAN_1 = 50\n",
    "MEAN_2 = 51\n",
    "STD = 5\n",
    "SAMPLE_SIZE=100\n",
    "\n",
    "data1 = np.random.normal(MEAN_1, STD, size=SAMPLE_SIZE)\n",
    "data2 = np.random.normal(MEAN_2, STD, size=SAMPLE_SIZE)\n",
    "# summarize\n",
    "print('data1: mean=%.3f stdv=%.3f' % (np.mean(data1), np.std(data1)))\n",
    "print('data2: mean=%.3f stdv=%.3f' % (np.mean(data2), np.std(data2)))\n"
   ]
  },
  {
   "cell_type": "markdown",
   "metadata": {},
   "source": [
    "#  Student’s t-Test\n",
    "The Student’s t-test is a statistical hypothesis test that :\n",
    "\n",
    "two independent data samples with the sme size known to have a Gaussian distribution, have the SAME Gaussian distribution.\n",
    "\n",
    "\n",
    "* Fail to Reject H0: No difference between the sample means.\n",
    "\n",
    "* Reject H0: Some difference between the sample means.\n",
    "\n",
    "The assumption or null hypothesis of the test is that the means of two populations are equal.\n",
    "A rejection of this hypothesis indicates that there is sufficient evidence that the means of the\n",
    "populations are different, and in turn that the distributions are not equal.\n"
   ]
  },
  {
   "cell_type": "code",
   "execution_count": 8,
   "metadata": {},
   "outputs": [
    {
     "name": "stdout",
     "output_type": "stream",
     "text": [
      "Statistics=-2.262, p=0.025\n",
      "Different distributions (reject H0)\n"
     ]
    }
   ],
   "source": [
    "from scipy.stats import ttest_ind\n",
    "stat, p = ttest_ind(data1, data2)\n",
    "print('Statistics=%.3f, p=%.3f' % (stat, p))\n",
    "\n",
    "alpha = 0.05\n",
    "\n",
    "if p > alpha:\n",
    "    print('Same distributions (fail to reject H0)')\n",
    "else:\n",
    "    print('Different distributions (reject H0)')"
   ]
  },
  {
   "cell_type": "markdown",
   "metadata": {},
   "source": [
    "## For different variance in samples:"
   ]
  },
  {
   "cell_type": "code",
   "execution_count": 10,
   "metadata": {},
   "outputs": [
    {
     "name": "stdout",
     "output_type": "stream",
     "text": [
      "data1: mean=50.322 stdv=5.178\n",
      "data2: mean=51.879 stdv=7.298\n",
      "Statistics=-2.262, p=0.025\n",
      "Different distributions (reject H0)\n"
     ]
    }
   ],
   "source": [
    "# generate two sets of univariate observations\n",
    "MEAN_1 = 50\n",
    "MEAN_2 = 51\n",
    "STD1 = 5\n",
    "STD2 = 7\n",
    "\n",
    "SAMPLE_SIZE=100\n",
    "\n",
    "new_data1 = np.random.normal(MEAN_1, STD1, size=SAMPLE_SIZE)\n",
    "new_data2 = np.random.normal(MEAN_2, STD2, size=SAMPLE_SIZE)\n",
    "# summarize\n",
    "print('data1: mean=%.3f stdv=%.3f' % (np.mean(new_data1), np.std(new_data1)))\n",
    "print('data2: mean=%.3f stdv=%.3f' % (np.mean(new_data2), np.std(new_data2)))\n",
    "\n",
    "stat, p = ttest_ind(data1, data2, equal_var=False)\n",
    "print('Statistics=%.3f, p=%.3f' % (stat, p))\n",
    "\n",
    "alpha = 0.05\n",
    "\n",
    "if p > alpha:\n",
    "    print('Same distributions (fail to reject H0)')\n",
    "else:\n",
    "    print('Different distributions (reject H0)')"
   ]
  },
  {
   "cell_type": "markdown",
   "metadata": {},
   "source": [
    "# Paired Student’s t-Test\n",
    "\n",
    "We may wish to compare the means between two dependent data samples. These data samples are repeated or dependent and are referred to as paired samples. We must use a modified version of the test that corrects for the fact that the\n",
    "data samples are dependent, called the paired Student’s t-test.\n",
    "\n",
    "there is enough evidence that the sample means are different.\n",
    "\n",
    "* Fail to Reject H0: Paired sample distributions are equal.\n",
    "* Reject H0: Paired sample distributions are not equal.\n"
   ]
  },
  {
   "cell_type": "code",
   "execution_count": 16,
   "metadata": {},
   "outputs": [
    {
     "name": "stdout",
     "output_type": "stream",
     "text": [
      "Statistics=nan, p=0.025\n",
      "Different distributions (reject H0)\n"
     ]
    }
   ],
   "source": [
    "from scipy.stats import ttest_rel\n",
    "\n",
    "print('Statistics=%.3f, p=%.3f' % (stat, p))\n",
    "# interpret\n",
    "alpha = 0.05\n",
    "if p > alpha:\n",
    "    print('Same distributions (fail to reject H0)')\n",
    "else:\n",
    "    print('Different distributions (reject H0)')"
   ]
  },
  {
   "cell_type": "markdown",
   "metadata": {},
   "source": [
    "# Analysis of Variance Test\n",
    "\n",
    "There are sometimes situations where we may have multiple independent data samples. We can\n",
    "perform the Student’s t-test pairwise on each combination of the data samples to get an idea of\n",
    "which samples have different means. This can be onerous if we are only interested in whether\n",
    "all samples have the same distribution or not. To answer this question, we can use the analysis\n",
    "of variance test, or ANOVA for short. ANOVA is a statistical test that assumes that the mean\n",
    "across 2 or more groups are equal. If the evidence suggests that this is not the case, the null\n",
    "hypothesis is rejected and at least one data sample has a different distribution.\n",
    "\n",
    "* Fail to Reject H0: All sample distributions are equal.\n",
    "\n",
    "* Reject H0: One or more sample distributions are not equal.\n",
    "\n",
    "The test requires that\n",
    "\n",
    "1. data samples are a Gaussian distribution \n",
    "\n",
    "2. samples are independent\n",
    "\n",
    "3. data samples have the same standard deviation"
   ]
  },
  {
   "cell_type": "code",
   "execution_count": 22,
   "metadata": {},
   "outputs": [
    {
     "name": "stdout",
     "output_type": "stream",
     "text": [
      "Statistics=3.655, p=0.027\n",
      "Different distributions (reject H0)\n"
     ]
    }
   ],
   "source": [
    "from scipy.stats import f_oneway\n",
    "\n",
    "np.random.seed(1)\n",
    "# generate three independent samples\n",
    "data1 = np.random.normal(50, 5, size=100)\n",
    "data2 = np.random.normal(50, 5, size=100)\n",
    "data3 = np.random.normal(52, 5, size=100)\n",
    "\n",
    "# compare samples\n",
    "stat, p = f_oneway(data1, data2, data3)\n",
    "print('Statistics=%.3f, p=%.3f' % (stat, p))\n",
    "\n",
    "# interpret\n",
    "alpha = 0.05\n",
    "if p > alpha:\n",
    "    print('Same distributions (fail to reject H0)')\n",
    "else:\n",
    "    print('Different distributions (reject H0)')"
   ]
  },
  {
   "cell_type": "markdown",
   "metadata": {},
   "source": [
    "# Repeated Measures ANOVA Test\n",
    "\n",
    "ANOVA for dependent samples.\n",
    "\n",
    "\n",
    "* Fail to Reject H0: All paired sample distributions are equal.\n",
    "13.8. Extensions 110\n",
    "* Reject H0: One or more paired sample distributions are not equal.\n",
    "\n",
    "NO scipy implementation"
   ]
  },
  {
   "cell_type": "markdown",
   "metadata": {},
   "source": [
    "## Resources used\n",
    "\n",
    "Statistical Methods for Machine Learning. Discover How to Transform Data into Knowledge with Python (Brownlee) 1,4 ed (2019)\n",
    "\n",
    "https://en.wikipedia.org/wiki/Student%27s_t-test"
   ]
  }
 ],
 "metadata": {
  "kernelspec": {
   "display_name": "Python 3",
   "language": "python",
   "name": "python3"
  },
  "language_info": {
   "codemirror_mode": {
    "name": "ipython",
    "version": 3
   },
   "file_extension": ".py",
   "mimetype": "text/x-python",
   "name": "python",
   "nbconvert_exporter": "python",
   "pygments_lexer": "ipython3",
   "version": "3.7.6"
  }
 },
 "nbformat": 4,
 "nbformat_minor": 4
}
