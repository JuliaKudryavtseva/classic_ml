{
 "cells": [
  {
   "cell_type": "markdown",
   "metadata": {},
   "source": [
    "# Parametric Statistical Significance Tests\n",
    "\n",
    "Parametric statistical tests assume that a data sample was drawn from a specific population\n",
    "distribution. They often refer to statistical tests that assume the Gaussian distribution. Because\n",
    "it is so common for data to fit this distribution.\n",
    "\n",
    "### A typical question we may have about two or more samples of data is whether they have the same distribution -  that is a data distribution with the same mean and standard deviation?"
   ]
  },
  {
   "cell_type": "code",
   "execution_count": 4,
   "metadata": {},
   "outputs": [
    {
     "name": "stdout",
     "output_type": "stream",
     "text": [
      "data1: mean=50.303 stdv=4.426\n",
      "data2: mean=51.764 stdv=4.660\n"
     ]
    }
   ],
   "source": [
    "import numpy as np\n",
    "np.random.seed(1)\n",
    "\n",
    "# generate two sets of univariate observations\n",
    "MEAN_1 = 50\n",
    "MEAN_2 = 51\n",
    "STD = 5\n",
    "SAMPLE_SIZE=100\n",
    "\n",
    "data1 = np.random.normal(MEAN_1, STD, size=SAMPLE_SIZE)\n",
    "data2 = np.random.normal(MEAN_2, STD, size=SAMPLE_SIZE)\n",
    "# summarize\n",
    "print('data1: mean=%.3f stdv=%.3f' % (np.mean(data1), np.std(data1)))\n",
    "print('data2: mean=%.3f stdv=%.3f' % (np.mean(data2), np.std(data2)))\n"
   ]
  },
  {
   "cell_type": "markdown",
   "metadata": {},
   "source": [
    "#  Student’s t-Test\n",
    "The Student’s t-test is a statistical hypothesis test that :\n",
    "\n",
    "two independent data samples known to have a Gaussian distribution, have the SAME Gaussian distribution.\n",
    "\n",
    "\n",
    "* Fail to Reject H0: No difference between the sample means.\n",
    "\n",
    "* Reject H0: Some difference between the sample means.\n",
    "\n",
    "The assumption or null hypothesis of the test is that the means of two populations are equal.\n",
    "A rejection of this hypothesis indicates that there is sufficient evidence that the means of the\n",
    "populations are different, and in turn that the distributions are not equal.\n"
   ]
  },
  {
   "cell_type": "code",
   "execution_count": 8,
   "metadata": {},
   "outputs": [
    {
     "name": "stdout",
     "output_type": "stream",
     "text": [
      "Statistics=-2.262, p=0.025\n",
      "Different distributions (reject H0)\n"
     ]
    }
   ],
   "source": [
    "from scipy.stats import ttest_ind\n",
    "stat, p = ttest_ind(data1, data2)\n",
    "print('Statistics=%.3f, p=%.3f' % (stat, p))\n",
    "\n",
    "alpha = 0.05\n",
    "\n",
    "if p > alpha:\n",
    "    print('Same distributions (fail to reject H0)')\n",
    "else:\n",
    "    print('Different distributions (reject H0)')"
   ]
  },
  {
   "cell_type": "markdown",
   "metadata": {},
   "source": [
    "## For different variance in samples:"
   ]
  },
  {
   "cell_type": "code",
   "execution_count": 23,
   "metadata": {},
   "outputs": [
    {
     "name": "stdout",
     "output_type": "stream",
     "text": [
      "data1: mean=50.938 stdv=5.670\n",
      "data2: mean=50.132 stdv=7.261\n"
     ]
    }
   ],
   "source": [
    "# generate two sets of univariate observations\n",
    "MEAN_1 = 50\n",
    "MEAN_2 = 51\n",
    "STD1 = 5\n",
    "STD2 = 7\n",
    "\n",
    "SAMPLE_SIZE=100\n",
    "\n",
    "data1 = np.random.normal(MEAN_1, STD1, size=SAMPLE_SIZE)\n",
    "data2 = np.random.normal(MEAN_2, STD2, size=SAMPLE_SIZE)\n",
    "# summarize\n",
    "print('data1: mean=%.3f stdv=%.3f' % (np.mean(data1), np.std(data1)))\n",
    "print('data2: mean=%.3f stdv=%.3f' % (np.mean(data2), np.std(data2)))"
   ]
  },
  {
   "cell_type": "code",
   "execution_count": 24,
   "metadata": {},
   "outputs": [
    {
     "name": "stdout",
     "output_type": "stream",
     "text": [
      "Statistics=0.871, p=0.385\n",
      "Same distributions (fail to reject H0)\n"
     ]
    }
   ],
   "source": [
    "stat, p = ttest_ind(data1, data2, equal_var=False)\n",
    "print('Statistics=%.3f, p=%.3f' % (stat, p))\n",
    "\n",
    "alpha = 0.05\n",
    "\n",
    "if p > alpha:\n",
    "    print('Same distributions (fail to reject H0)')\n",
    "else:\n",
    "    print('Different distributions (reject H0)')"
   ]
  },
  {
   "cell_type": "markdown",
   "metadata": {},
   "source": [
    "# Paired Student’s t-Test"
   ]
  },
  {
   "cell_type": "code",
   "execution_count": null,
   "metadata": {},
   "outputs": [],
   "source": []
  },
  {
   "cell_type": "code",
   "execution_count": null,
   "metadata": {},
   "outputs": [],
   "source": []
  },
  {
   "cell_type": "markdown",
   "metadata": {},
   "source": [
    "## Resources used\n",
    "\n",
    "Statistical Methods for Machine Learning. Discover How to Transform Data into Knowledge with Python (Brownlee) 1,4 ed (2019)"
   ]
  }
 ],
 "metadata": {
  "kernelspec": {
   "display_name": "Python 3",
   "language": "python",
   "name": "python3"
  },
  "language_info": {
   "codemirror_mode": {
    "name": "ipython",
    "version": 3
   },
   "file_extension": ".py",
   "mimetype": "text/x-python",
   "name": "python",
   "nbconvert_exporter": "python",
   "pygments_lexer": "ipython3",
   "version": "3.7.6"
  }
 },
 "nbformat": 4,
 "nbformat_minor": 4
}
