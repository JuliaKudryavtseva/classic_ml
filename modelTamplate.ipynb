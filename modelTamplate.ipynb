{
 "cells": [
  {
   "cell_type": "code",
   "execution_count": 9,
   "metadata": {},
   "outputs": [],
   "source": [
    "def tamplate(name='Model name', objective='Objective funciton', algo='1 Algorithm \\n \\n\\t 2', speed='O(n)', memory='O(n)'):\n",
    "    \n",
    "    print(\n",
    "        \n",
    "        f'''\n",
    "        model name: {name}\n",
    "        \n",
    "        objective funciton: {objective}\n",
    "        \n",
    "        algorithm:\n",
    "        \n",
    "            {algo}\n",
    "        \n",
    "        speed: {speed}\n",
    "        memory: {memory}\n",
    "        \n",
    "        '''\n",
    "    )"
   ]
  },
  {
   "cell_type": "code",
   "execution_count": 10,
   "metadata": {},
   "outputs": [
    {
     "name": "stdout",
     "output_type": "stream",
     "text": [
      "\n",
      "        model name: Model name\n",
      "        \n",
      "        objective funciton: Objective funciton\n",
      "        \n",
      "        algorithm:\n",
      "        \n",
      "            1 Algorithm \n",
      " \n",
      "\t 2\n",
      "        \n",
      "        speed: O(n)\n",
      "        memory: O(n)\n",
      "        \n",
      "        \n"
     ]
    }
   ],
   "source": [
    "tamplate()"
   ]
  },
  {
   "cell_type": "code",
   "execution_count": null,
   "metadata": {},
   "outputs": [],
   "source": []
  }
 ],
 "metadata": {
  "kernelspec": {
   "display_name": "Python 3",
   "language": "python",
   "name": "python3"
  },
  "language_info": {
   "codemirror_mode": {
    "name": "ipython",
    "version": 3
   },
   "file_extension": ".py",
   "mimetype": "text/x-python",
   "name": "python",
   "nbconvert_exporter": "python",
   "pygments_lexer": "ipython3",
   "version": "3.7.6"
  }
 },
 "nbformat": 4,
 "nbformat_minor": 4
}
